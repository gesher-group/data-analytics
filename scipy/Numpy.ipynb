{
 "cells": [
  {
   "cell_type": "markdown",
   "metadata": {},
   "source": [
    "# SciPy libraries for Data Analytics and Visualization"
   ]
  },
  {
   "cell_type": "markdown",
   "metadata": {},
   "source": [
    "Hey everyone! Welcome to Advanced Data Analytics hosted by Gesher Group. Today we're learning about SciPy and all the libraries it contains."
   ]
  },
  {
   "cell_type": "markdown",
   "metadata": {},
   "source": [
    "# SciPy\n",
    "\n",
    "SciPy is a collection of mathematical algorithms and convenience functions built on the Numpy extension of Python. It adds significant power to the interactive Python session by providing the user with high-level commands and classes for manipulating and visualizing data. With SciPy an interactive Python session becomes a data-processing and system-prototyping environment rivaling systems such as MATLAB, IDL, Octave, R-Lab, and SciLab.\n",
    "\n",
    "The additional benefit of basing SciPy on Python is that this also makes a powerful programming language available for use in developing sophisticated programs and specialized applications. Scientific applications using SciPy benefit from the development of additional modules in numerous niches of the software landscape by developers across the world. \n",
    "\n",
    "Everything from parallel programming to web and data-base subroutines and classes have been made available to the Python programmer. All of this power is available in addition to the mathematical libraries in SciPy.\n",
    "\n",
    "We'll focus a lot more on NumPy arrays, but let's show some of the capabilities of SciPy:"
   ]
  },
  {
   "cell_type": "code",
   "execution_count": 2,
   "metadata": {},
   "outputs": [
    {
     "name": "stdout",
     "output_type": "stream",
     "text": "[[1 2 3]\n [4 5 6]\n [7 8 9]]\n"
    }
   ],
   "source": [
    "import numpy as np\n",
    "A = np.array([[1,2,3],[4,5,6],[7,8,9]])\n",
    "print(A)"
   ]
  },
  {
   "cell_type": "markdown",
   "metadata": {},
   "source": [
    "## Linear Algebra\n",
    "**linalg**"
   ]
  },
  {
   "cell_type": "code",
   "execution_count": 3,
   "metadata": {},
   "outputs": [],
   "source": [
    "from scipy import linalg"
   ]
  },
  {
   "cell_type": "markdown",
   "metadata": {},
   "source": [
    "Determinant of a Matrix"
   ]
  },
  {
   "cell_type": "code",
   "execution_count": 4,
   "metadata": {},
   "outputs": [
    {
     "data": {
      "text/plain": "0.0"
     },
     "execution_count": 4,
     "metadata": {},
     "output_type": "execute_result"
    }
   ],
   "source": [
    "# Compute the determinant of a matrix\n",
    "linalg.det(A)"
   ]
  },
  {
   "cell_type": "markdown",
   "metadata": {},
   "source": [
    "Compute pivoted LU decomposition of a matrix.\n",
    "\n",
    "The decomposition is::\n",
    "\n",
    "    A = P L U\n",
    "\n",
    "where P is a permutation matrix, L lower triangular with unit\n",
    "diagonal elements, and U upper triangular."
   ]
  },
  {
   "cell_type": "code",
   "execution_count": 5,
   "metadata": {},
   "outputs": [],
   "source": [
    "P, L, U = linalg.lu(A)"
   ]
  },
  {
   "cell_type": "code",
   "execution_count": 6,
   "metadata": {},
   "outputs": [
    {
     "data": {
      "text/plain": "array([[0., 1., 0.],\n       [0., 0., 1.],\n       [1., 0., 0.]])"
     },
     "execution_count": 6,
     "metadata": {},
     "output_type": "execute_result"
    }
   ],
   "source": [
    "P"
   ]
  },
  {
   "cell_type": "code",
   "execution_count": 7,
   "metadata": {},
   "outputs": [
    {
     "data": {
      "text/plain": "array([[1.        , 0.        , 0.        ],\n       [0.14285714, 1.        , 0.        ],\n       [0.57142857, 0.5       , 1.        ]])"
     },
     "execution_count": 7,
     "metadata": {},
     "output_type": "execute_result"
    }
   ],
   "source": [
    "L"
   ]
  },
  {
   "cell_type": "code",
   "execution_count": 8,
   "metadata": {},
   "outputs": [
    {
     "data": {
      "text/plain": "array([[ 7.00000000e+00,  8.00000000e+00,  9.00000000e+00],\n       [ 0.00000000e+00,  8.57142857e-01,  1.71428571e+00],\n       [ 0.00000000e+00,  0.00000000e+00, -1.58603289e-16]])"
     },
     "execution_count": 8,
     "metadata": {},
     "output_type": "execute_result"
    }
   ],
   "source": [
    "U"
   ]
  },
  {
   "cell_type": "code",
   "execution_count": 9,
   "metadata": {},
   "outputs": [
    {
     "data": {
      "text/plain": "array([[7., 8., 9.],\n       [1., 2., 3.],\n       [4., 5., 6.]])"
     },
     "execution_count": 9,
     "metadata": {},
     "output_type": "execute_result"
    }
   ],
   "source": [
    "np.dot(L,U)"
   ]
  },
  {
   "cell_type": "markdown",
   "metadata": {},
   "source": [
    "We can find out the eigenvalues and eigenvectors of this matrix:"
   ]
  },
  {
   "cell_type": "code",
   "execution_count": 10,
   "metadata": {},
   "outputs": [],
   "source": [
    "EW, EV = linalg.eig(A)"
   ]
  },
  {
   "cell_type": "code",
   "execution_count": 11,
   "metadata": {},
   "outputs": [
    {
     "data": {
      "text/plain": "array([ 1.61168440e+01+0.j, -1.11684397e+00+0.j, -9.75918483e-16+0.j])"
     },
     "execution_count": 11,
     "metadata": {},
     "output_type": "execute_result"
    }
   ],
   "source": [
    "EW"
   ]
  },
  {
   "cell_type": "code",
   "execution_count": 12,
   "metadata": {},
   "outputs": [
    {
     "data": {
      "text/plain": "array([[-0.23197069, -0.78583024,  0.40824829],\n       [-0.52532209, -0.08675134, -0.81649658],\n       [-0.8186735 ,  0.61232756,  0.40824829]])"
     },
     "execution_count": 12,
     "metadata": {},
     "output_type": "execute_result"
    }
   ],
   "source": [
    "EV"
   ]
  },
  {
   "cell_type": "markdown",
   "metadata": {},
   "source": [
    "Solving systems of linear equations can also be done:"
   ]
  },
  {
   "cell_type": "code",
   "execution_count": 13,
   "metadata": {},
   "outputs": [],
   "source": [
    "v = np.array([[2],[3],[5]])"
   ]
  },
  {
   "cell_type": "code",
   "execution_count": 14,
   "metadata": {},
   "outputs": [
    {
     "data": {
      "text/plain": "array([[2],\n       [3],\n       [5]])"
     },
     "execution_count": 14,
     "metadata": {},
     "output_type": "execute_result"
    }
   ],
   "source": [
    "v"
   ]
  },
  {
   "cell_type": "code",
   "execution_count": 16,
   "metadata": {},
   "outputs": [],
   "source": [
    "s =linalg.solve(A,v)"
   ]
  },
  {
   "cell_type": "code",
   "execution_count": 17,
   "metadata": {},
   "outputs": [
    {
     "data": {
      "text/plain": "array([[ 3.15251974e+15],\n       [-6.30503948e+15],\n       [ 3.15251974e+15]])"
     },
     "execution_count": 17,
     "metadata": {},
     "output_type": "execute_result"
    }
   ],
   "source": [
    "s"
   ]
  },
  {
   "cell_type": "markdown",
   "metadata": {},
   "source": [
    "## Sparse Linear Algebra\n",
    "SciPy has some routines for computing with sparse and potentially very large matrices. The necessary tools are in the submodule scipy.sparse.\n",
    "\n",
    "We make one example on how to construct a large matrix:"
   ]
  },
  {
   "cell_type": "code",
   "execution_count": 18,
   "metadata": {},
   "outputs": [],
   "source": [
    "from scipy import sparse"
   ]
  },
  {
   "cell_type": "code",
   "execution_count": 19,
   "metadata": {},
   "outputs": [],
   "source": [
    "# Row-based linked list sparse matrix\n",
    "A = sparse.lil_matrix((1000, 1000))"
   ]
  },
  {
   "cell_type": "code",
   "execution_count": 20,
   "metadata": {},
   "outputs": [
    {
     "data": {
      "text/plain": "<1000x1000 sparse matrix of type '<class 'numpy.float64'>'\n\twith 0 stored elements in LInked List format>"
     },
     "execution_count": 20,
     "metadata": {},
     "output_type": "execute_result"
    }
   ],
   "source": [
    "A"
   ]
  },
  {
   "cell_type": "code",
   "execution_count": 21,
   "metadata": {},
   "outputs": [],
   "source": [
    "A[0,:100] = np.random.rand(100)"
   ]
  },
  {
   "cell_type": "code",
   "execution_count": 22,
   "metadata": {},
   "outputs": [],
   "source": [
    "A[1,100:200] = A[0,:100]"
   ]
  },
  {
   "cell_type": "code",
   "execution_count": 24,
   "metadata": {},
   "outputs": [],
   "source": [
    "A.setdiag(np.random.rand(1000))"
   ]
  },
  {
   "cell_type": "code",
   "execution_count": 25,
   "metadata": {},
   "outputs": [
    {
     "data": {
      "text/plain": "<1000x1000 sparse matrix of type '<class 'numpy.float64'>'\n\twith 1199 stored elements in LInked List format>"
     },
     "execution_count": 25,
     "metadata": {},
     "output_type": "execute_result"
    }
   ],
   "source": [
    "A"
   ]
  },
  {
   "cell_type": "markdown",
   "metadata": {},
   "source": [
    "**Linear Algebra for Sparse Matrices**"
   ]
  },
  {
   "cell_type": "code",
   "execution_count": 26,
   "metadata": {},
   "outputs": [],
   "source": [
    "from scipy.sparse import linalg"
   ]
  },
  {
   "cell_type": "code",
   "execution_count": 27,
   "metadata": {},
   "outputs": [
    {
     "data": {
      "text/plain": "<1000x1000 sparse matrix of type '<class 'numpy.float64'>'\n\twith 1199 stored elements in Compressed Sparse Row format>"
     },
     "execution_count": 27,
     "metadata": {},
     "output_type": "execute_result"
    }
   ],
   "source": [
    "# Convert this matrix to Compressed Sparse Row format.\n",
    "A.tocsr()"
   ]
  },
  {
   "cell_type": "code",
   "execution_count": 28,
   "metadata": {},
   "outputs": [],
   "source": [
    "A = A.tocsr()"
   ]
  },
  {
   "cell_type": "code",
   "execution_count": 29,
   "metadata": {},
   "outputs": [],
   "source": [
    "b = np.random.rand(1000)"
   ]
  },
  {
   "cell_type": "code",
   "execution_count": 30,
   "metadata": {},
   "outputs": [
    {
     "data": {
      "text/plain": "array([-1.64011176e+02, -8.90247274e+01,  8.25068765e-01,  4.51261878e-01,\n        5.55665216e-01,  1.43667853e+00,  9.29610275e-01,  8.94343065e+00,\n        7.83467284e-01,  5.27528500e-01,  7.73871690e-01,  2.60797953e-01,\n        3.08589995e-01,  6.09615727e-01,  8.29526011e+00,  1.29737134e+00,\n        1.28806665e-01,  2.63999206e+00,  1.47288081e+00,  1.08321414e+00,\n        1.28700609e+00,  8.04968982e-01,  5.87957886e-03,  5.07164760e-01,\n        3.53741314e-01,  1.97358118e+00,  1.87297065e+00,  1.32760277e+01,\n        1.62408770e+00,  2.09049013e+00,  1.35150024e-01,  4.83782812e+00,\n        1.30629369e-01,  1.37618549e+00,  7.13860625e-01,  2.48336603e+00,\n        4.30584350e+00,  2.67029226e-01,  7.60549919e+00,  1.67638593e+00,\n        4.86336922e-01,  7.09248797e-01,  3.65530007e-02,  1.89869544e+00,\n        5.88630277e+00,  2.36446101e-01,  6.39944592e-03,  1.62007811e+00,\n        9.42999236e-01,  1.16287391e+00,  4.79347861e-01,  9.42224049e-01,\n        3.24731965e+00,  5.87375479e-01,  1.36613533e+00,  2.20202753e+00,\n        3.47637983e+00,  1.50499962e+00,  8.46143470e-01,  1.01146572e+00,\n        2.38352594e-01,  2.37779599e+00,  1.32209482e-01,  7.72853819e+00,\n        1.39516092e-01,  1.21969313e+00,  1.62266928e+00,  5.05045504e+00,\n        1.21914358e-01,  1.35888731e+00,  8.05779788e-01,  1.31324330e+00,\n        8.34649257e+00,  1.25594309e+00,  2.05272470e+00,  1.28933362e+01,\n        3.10448982e-01,  4.24969623e+00,  5.73092376e+00,  1.85769469e-01,\n        8.52628190e-01,  2.35738939e+00,  1.09659201e+00,  2.59546237e+00,\n        1.96154328e+00,  5.68629803e-01,  1.00063879e+00,  8.95660388e-01,\n        2.11806231e+00,  4.73650225e-01,  1.56321857e+01,  1.68753979e+01,\n        1.75956554e+00,  9.61095226e-01,  2.32054705e-01,  1.94321118e+00,\n        3.00083716e-01,  2.10336223e+00,  1.77734349e+00,  2.04549333e+02,\n        5.99157588e-01,  4.23850369e-01,  1.93077378e+01,  3.43945586e-01,\n        4.01444307e-01,  7.82983547e-01,  1.77652481e-01,  6.57656871e-01,\n        1.86739004e+00,  2.43691601e+00,  1.33250272e+00,  3.32354713e+00,\n        6.39787980e-01,  1.61326128e-01,  2.88601951e+00,  2.43393586e+00,\n        7.85372179e-01,  2.72966182e+00,  1.15270933e+00,  6.21006075e-01,\n        7.28680573e-01,  1.29328332e-01,  4.52019967e-01,  1.93390264e-01,\n        7.90959613e-01,  6.36315449e-01,  1.02461700e+00,  1.09517634e-01,\n        1.36411177e+00,  4.36242195e-01,  8.34276092e-01,  3.39950166e+00,\n        7.80737314e-01,  2.25367124e+00,  1.32685388e+00,  2.02217927e-01,\n        1.39547351e+00,  1.80287750e+00,  7.86707714e-01,  4.34337653e-01,\n        8.06183918e-01,  1.08299539e+00,  2.31827502e-01,  2.52070018e-01,\n        4.69456847e-01,  2.18226041e+00,  4.83070047e-01,  8.61771773e-01,\n        1.40485534e-02,  1.45761948e-01,  5.75821436e-01,  3.87644137e+00,\n        1.00197130e+00,  4.00541322e-01,  1.01795473e+00,  7.52563239e-02,\n        2.55665396e-01,  2.46516010e-01,  1.17142144e+00,  8.38639962e-01,\n        8.98307534e-01,  3.92326798e-01,  7.73079002e-01,  3.80895148e+00,\n        1.67837250e+00,  5.21206116e+00,  1.55404264e+00,  3.76785650e+00,\n        1.77534775e+00,  1.97397961e-01,  6.38884017e-01,  1.46304605e+00,\n        4.86677148e+00,  2.32484176e+00,  6.75065174e+00,  6.77726347e-01,\n        1.58181300e+00,  4.04432278e+00,  2.50113658e+00,  7.52974822e-01,\n        3.99164893e+00,  8.59083262e-01,  5.98753616e-01,  1.06800837e+00,\n        3.69391425e-01,  4.30476634e+00,  7.57326608e+00,  7.82112801e-01,\n        1.50062319e+00,  5.05224693e+00,  1.23407284e+00,  5.31966236e-01,\n        1.04013400e+00,  2.12145472e+00,  1.80570331e-01,  1.30928926e+00,\n        2.71346646e+00,  3.80136826e+00,  8.94770392e-01,  4.64699029e-01,\n        9.71844940e-01,  1.05252026e+00,  2.27885965e+00,  4.08410810e-01,\n        7.62825788e-01,  1.02667232e+00,  3.27522741e-01,  1.17943571e-01,\n        4.91292012e-01,  1.22539358e+00,  1.08100448e+00,  1.76568831e+00,\n        1.20836027e+00,  4.69339580e-01,  7.71941656e-01,  1.14188539e+00,\n        2.33001072e-01,  3.67207980e-01,  9.54522942e-02,  2.20564798e+00,\n        4.16441798e+01,  5.07451862e-01,  1.75300049e-01,  1.46180734e+00,\n        1.48167095e+00,  6.36724608e-01,  1.16728897e+01,  1.21735417e+00,\n        1.68114382e-01,  7.06457958e-01,  6.28165548e-01,  1.12602845e+01,\n        9.61874557e-02,  8.00804969e-01,  1.48842118e+00,  7.13967251e-01,\n        2.49914192e+00,  4.12304627e-02,  4.44862614e-01,  1.61157617e+00,\n        8.37125336e+00,  2.14303207e+00,  1.37326213e+00,  6.03762571e-01,\n        6.41855572e-01,  1.29882787e+00,  4.23791567e-01,  2.92786027e+00,\n        5.53026584e+00,  2.95224581e+00,  5.78646858e-01,  6.76321389e-01,\n        1.17833579e+00,  8.77384449e-01,  3.03995602e-01,  6.84985338e-01,\n        7.79587157e-01,  1.52125350e+00,  3.91911736e+00,  1.81085663e+00,\n        9.71524039e-01,  3.78598322e+00,  3.45163407e-01,  1.29608618e+00,\n        2.65515943e+00,  1.28849161e+00,  1.63302119e+00,  3.93606463e+00,\n        3.55781771e-01,  7.10326185e-02,  5.66398244e-01,  1.43012746e+00,\n        9.09625907e-01,  1.05133998e+00,  7.35622191e+00,  5.28597292e-01,\n        8.73080952e-01,  2.87709910e-02,  8.24437839e-02,  4.22916639e-01,\n        9.41331017e-01,  4.08816120e+00,  8.55649603e-01,  2.10007276e+00,\n        2.18524519e+01,  1.60184345e+00,  1.22485889e+01,  2.74223161e-01,\n        6.16740380e-01,  3.02723776e-01,  2.01547004e-01,  5.89335867e+00,\n        3.98513655e-01,  7.37510078e+01,  2.50727831e+00,  9.44766307e-01,\n        1.33757426e+00,  1.40658665e+00,  3.31001608e+00,  8.70559745e-01,\n        3.13140473e+00,  6.69556269e-01,  1.03452879e+01,  7.78230550e-02,\n        7.28414391e-01,  1.53003875e+00,  2.18785331e+00,  1.84721784e+00,\n        9.80493205e+00,  9.23699801e-01,  7.73720845e-01,  3.88785774e-01,\n        1.81190020e+00,  6.59857816e-01,  1.24307678e+00,  6.39807093e-01,\n        6.53993324e-02,  9.28130467e+00,  8.82573227e-01,  5.31740289e-01,\n        1.37783838e-01,  1.38090656e+00,  6.56810329e-01,  5.24769874e-01,\n        1.48047992e+00,  1.27032150e-01,  2.23759212e+00,  1.44345466e+00,\n        1.60543368e+00,  3.14599652e-01,  1.20487429e+00,  9.40127409e-01,\n        4.68213168e+00,  8.92293330e-01,  9.20157132e-01,  3.80286084e-01,\n        4.34610627e-01,  3.60388698e+01,  1.17537424e-01,  1.06865683e+00,\n        1.55941618e+00,  4.35225832e-01,  1.19389500e+00,  2.35974600e-02,\n        1.20428400e+01,  1.01696928e+00,  3.19619653e+01,  3.75355801e+00,\n        9.10599675e-01,  1.49049054e+00,  9.14588027e-01,  3.81022059e-01,\n        5.94119809e-01,  1.02288735e+00,  5.09490919e-01,  4.03256088e-01,\n        2.09221581e-01,  1.10280951e+00,  1.35976137e+00,  1.37608489e+00,\n        2.56715470e+00,  1.00477540e+00,  5.55852752e+00,  1.23226973e+01,\n        2.06246920e-01,  6.15465705e-02,  4.24493592e-01,  1.24655604e+00,\n        6.35761750e-01,  4.13405008e+00,  6.42761348e-01,  5.53981940e-01,\n        2.25146517e+00,  2.79264139e+00,  1.31187546e+00,  8.69274517e-01,\n        9.02065047e-01,  4.98944486e-01,  6.66346391e-01,  2.13569160e+01,\n        2.65154154e+00,  1.15502712e+00,  7.66468684e-01,  2.40586899e-01,\n        1.02792414e+00,  3.76681548e+00,  9.52238369e-02,  6.98567833e-01,\n        5.78725548e-01,  9.58566683e-01,  2.48503129e-01,  2.64746955e+00,\n        9.63336539e-01,  2.45180322e-02,  1.34466853e+00,  8.66520934e-01,\n        1.40152103e+00,  9.43953566e-01,  1.44603524e-01,  3.97621331e+00,\n        7.24988801e-01,  5.39014531e+00,  1.91140048e+00,  3.71207543e-01,\n        2.23780090e-01,  7.85813111e-01,  3.84730817e+01,  1.94580624e-01,\n        3.35630663e+00,  7.62144596e-01,  1.03339898e+00,  1.99201306e+00,\n        7.23180880e-01,  5.31390651e-01,  2.20015907e+00,  2.55148541e+00,\n        4.07923213e+00,  1.05329095e+00,  1.08165324e-01,  9.54080001e-01,\n        9.26860233e-01,  6.42584480e-01,  2.15804375e+00,  1.01345340e+00,\n        5.13689355e+00,  6.44967220e-01,  9.99388718e-01,  7.48961911e-01,\n        7.80123591e-01,  9.55880148e-01,  1.96163831e-02,  6.99247773e-01,\n        6.78053291e-01,  4.47467784e-01,  6.81848374e-01,  2.46632335e+00,\n        9.96404061e-01,  1.29370810e+01,  3.68212461e-01,  3.08289889e+00,\n        1.19209672e+00,  1.88105895e-01,  3.23787747e+00,  3.34078574e+00,\n        8.62187913e-01,  5.28540068e+00,  4.17209333e-01,  3.36559236e+00,\n        3.79470634e+00,  1.77943871e+00,  1.25910315e+00,  2.92979753e+00,\n        2.17037865e+00,  3.24132352e-01,  3.63481446e+00,  8.61461280e-01,\n        2.15317752e-01,  1.14606393e+00,  2.45104776e-01,  1.27064785e+00,\n        3.47655722e+00,  1.02649709e+00,  1.05736400e-01,  5.99773337e-01,\n        3.63674673e+00,  3.65966062e-01,  3.52251950e+00,  9.65059706e-01,\n        3.13327342e+00,  3.27046453e-01,  5.89446794e+00,  1.02376813e+00,\n        3.03760448e-01,  4.40658671e-01,  3.28177443e-01,  6.31917370e-01,\n        1.26488832e+00,  1.44239869e-01,  2.10545644e+00,  1.14082027e+00,\n        9.67593306e+00,  2.02955681e+00,  1.52709525e+00,  2.46427795e+01,\n        9.18037204e-01,  2.23918618e+01,  2.05653237e+00,  8.67192200e-01,\n        2.89051474e-01,  2.03194878e+00,  3.14734933e-02,  4.67953696e-01,\n        1.33489350e+00,  2.50800568e+00,  2.50940115e-01,  8.59553078e-01,\n        1.21052792e-01,  1.16719680e+00,  7.68970495e-01,  1.21403984e+00,\n        3.22299886e-01,  7.59608149e-01,  2.85368635e+00,  9.85590789e-02,\n        2.87163685e+00,  2.58984210e+00,  7.70778673e+00,  1.09908336e-01,\n        7.12745990e-01,  3.20840118e-01,  4.76354013e+01,  1.73436468e-01,\n        1.79799741e+00,  2.07582213e+00,  1.01300477e+00,  8.75029433e-01,\n        3.26159891e-01,  6.83326887e-01,  1.06793203e+00,  2.19424612e+00,\n        5.40653686e+01,  1.39768237e+00,  2.12846887e-01,  1.91850557e+00,\n        1.18266769e+00,  3.37353355e+00,  9.15245936e-01,  5.13507719e-01,\n        2.30484859e-01,  2.43246456e-01,  7.24445542e-01,  6.46523101e-01,\n        5.11457018e-01,  4.79715381e-01,  6.79502514e-01,  9.78696076e-01,\n        6.20910352e-01,  1.77719080e+00,  2.71423013e-01,  2.15202064e+00,\n        5.45967258e-01,  3.38763068e+00,  1.17892703e+00,  5.92446781e-01,\n        6.31692812e-01,  6.42299341e-01,  7.66006039e-01,  5.14601835e-01,\n        1.10644120e+00,  6.77022096e-01,  6.70034735e-02,  3.01061507e-02,\n        1.11651742e+00,  8.78278668e-01,  4.95472858e+00,  9.13465891e-01,\n        7.27410134e-01,  9.18152410e-01,  1.02151060e+00,  5.50853988e-01,\n        1.54511402e+00,  3.66283397e+00,  1.24179377e+00,  9.87415182e-01,\n        2.90323837e-01,  3.43347241e+00,  1.06926957e+00,  1.40970707e+00,\n        8.06691048e-01,  4.68260399e+00,  5.39660617e-01,  1.65596856e+00,\n        9.15342166e-01,  1.64275221e+00,  9.90131931e-01,  1.28977407e+00,\n        7.69011656e-01,  3.38157844e-01,  4.44701789e-02,  3.61813808e-01,\n        7.34745361e-01,  9.49520328e-01,  1.24898781e+00,  4.92268433e+00,\n        3.49095513e+00,  5.15085988e-01,  2.26624193e+00,  2.18272134e+00,\n        6.25445863e-01,  6.79314818e-01,  3.34069430e-01,  2.50593102e-01,\n        2.72048262e+00,  1.51205386e+01,  1.10633688e+00,  1.57120000e+00,\n        3.64232059e+01,  3.67788736e+00,  3.74852836e-01,  9.69085602e-01,\n        9.19692822e-02,  1.10271622e+00,  1.84466285e-01,  1.28509168e+00,\n        2.83258909e-01,  1.13170948e+00,  1.52028565e+00,  1.06714673e+00,\n        1.17504418e+00,  5.64279413e+01,  8.40210700e-01,  2.90780608e+00,\n        2.27390238e+01,  1.66579511e+00,  5.99466519e-01,  4.54740125e+01,\n        2.46816152e+00,  1.82550102e+00,  6.88885742e-02,  7.44548815e-01,\n        2.03841992e+00,  4.92841990e-01,  6.16178319e-01,  1.25901749e+00,\n        7.12026474e-01,  2.23691397e+00,  7.50763887e-01,  9.76307874e-01,\n        8.18716390e-02,  1.59512006e-01,  2.12439517e+00,  1.66570836e+00,\n        2.23129044e+00,  9.76600682e-04,  3.35774125e-01,  2.71646627e+00,\n        1.28487859e+00,  4.40980298e-01,  7.09162639e+00,  3.09997734e-01,\n        3.62012350e-01,  2.48892380e-01,  7.07583941e-01,  6.57935465e-01,\n        4.50320170e-01,  1.13484063e+00,  2.00935563e+00,  3.56088974e+00,\n        9.56951562e+00,  1.59316780e+02,  8.50939885e-01,  3.75193519e+00,\n        2.76522309e+00,  9.40657687e-01,  5.49473921e-01,  8.62510963e-01,\n        5.44079861e+00,  1.75095920e-01,  1.28519190e+00,  2.88850131e-01,\n        9.61428872e-01,  1.99912814e-02,  1.41215257e+01,  2.64909543e-01,\n        1.13628530e+00,  1.54329461e+00,  1.68747890e+00,  2.93667527e-02,\n        2.16863838e-01,  4.31120894e-01,  4.04177575e+00,  1.63544419e+01,\n        1.43571981e+00,  3.69043755e+00,  2.10341990e+00,  4.87514309e-01,\n        2.77138584e+00,  7.74374526e-01,  1.74314593e-01,  1.90517692e+00,\n        6.90211664e+00,  1.78902458e+01,  8.86050331e+00,  5.96568262e+00,\n        3.03727520e-01,  8.63627562e-01,  3.12805025e+00,  1.10007808e+00,\n        5.32461301e-01,  1.87243369e-01,  5.54306186e+00,  3.14864455e-01,\n        3.69528563e-01,  5.78488298e-01,  8.08212476e+00,  2.34783483e+00,\n        4.83000304e-01,  2.22930270e+00,  6.18493404e-01,  5.34164175e-01,\n        3.18261225e-01,  1.00525672e+01,  4.44503559e+00,  7.72762272e-01,\n        1.63958746e+00,  3.20414097e+00,  3.53260221e-01,  7.27161676e-01,\n        2.53627571e+01,  1.48080924e-01,  4.66892314e+00,  8.08300609e-01,\n        1.97226094e+00,  7.11623717e-01,  6.74121691e-01,  1.54293590e+00,\n        2.17902867e-01,  1.07285303e+01,  3.50328114e+00,  1.26572557e+00,\n        1.55378098e-01,  2.52034417e-01,  1.24580238e+00,  7.37409954e-01,\n        4.90065401e+00,  1.44073659e+00,  4.67341167e-01,  7.23545383e-01,\n        6.34214994e-02,  1.72150101e-01,  1.22717400e+01,  1.12115067e+00,\n        3.76482089e+00,  6.62844134e-01,  8.96329608e-01,  9.20883587e-01,\n        3.23416504e-02,  4.08493039e-01,  6.76328783e-01,  2.15161409e-01,\n        1.88657629e+00,  2.86191785e-01,  1.81640325e-01,  3.54722133e-01,\n        2.64089912e-01,  1.03583564e+01,  1.17291447e+00,  4.43128263e-01,\n        4.47835706e-01,  3.79797425e+00,  4.35308498e+00,  5.42137258e+01,\n        3.96479089e+00,  4.32718630e+00,  6.02913503e-01,  2.16426386e+00,\n        7.70309508e-01,  2.35413510e-01,  1.44256917e+00,  1.76435326e-01,\n        1.59930799e+00,  1.56207125e+00,  4.90585480e+00,  4.83776841e+00,\n        1.38340103e+00,  3.46794775e+00,  2.92983370e+00,  8.91275093e-01,\n        4.10508814e-02,  4.24201706e-01,  1.22523352e+00,  2.01855503e+00,\n        1.92016665e+00,  1.14621231e+00,  9.82429526e-01,  5.35365124e+00,\n        4.31596327e+01,  1.07392448e+01,  7.99507057e-02,  4.21433891e-01,\n        4.87938934e-01,  1.87321643e+00,  5.18457799e-01,  2.05266693e-01,\n        3.27024682e+00,  4.43132706e+00,  1.33851431e+01,  1.13336058e+00,\n        1.66774835e+00,  4.39048558e+00,  1.29142491e+00,  9.94239079e-01,\n        4.93308497e-01,  1.16234224e+00,  8.54420154e-01,  4.21607742e+00,\n        1.96892933e+00,  7.88548234e-01,  1.14790920e+00,  1.30397573e+00,\n        8.39102776e-01,  9.51075936e-01,  1.37310340e+00,  5.97900899e-01,\n        1.62912181e+01,  3.02334081e-01,  1.14093538e+00,  2.62380903e+00,\n        4.45905194e-01,  3.10759059e-01,  2.52807936e+00,  3.91708816e+00,\n        4.08899736e-04,  2.58679213e-01,  1.27293596e-01,  1.07966996e+00,\n        1.75779178e+00,  9.24061615e-01,  8.47907343e-01,  7.33364210e-01,\n        1.38149978e+00,  5.51950505e+00,  1.80320894e+00,  1.65427010e+00,\n        2.00065428e-01,  1.33437764e+00,  1.08568673e+00,  1.34545600e+00,\n        1.13916879e+00,  2.70900763e-02,  3.26247333e-01,  1.39521813e+00,\n        5.48020277e-01,  1.13234671e+00,  3.04076209e-01,  5.19477775e-01,\n        6.16227995e+00,  8.42415847e-01,  4.33850922e-02,  9.01708769e-01,\n        7.91793340e-01,  8.87464610e-02,  2.16253935e+00,  1.01161121e-01,\n        7.05526403e-01,  4.33730224e+00,  1.33137321e-01,  1.19993058e+01,\n        1.57960010e+00,  2.67315032e-01,  1.67786689e+00,  5.89764969e-01,\n        2.11886851e+01,  1.35528733e+00,  1.01122336e+00,  2.39564575e+00,\n        8.67648629e-01,  2.19103635e+00,  6.05807074e-01,  1.31752928e+00,\n        5.13395517e-01,  4.64396909e-01,  2.32272034e-01,  2.84483456e-02,\n        5.09116189e-02,  1.14496439e+00,  8.32243618e-01,  4.46299887e+01,\n        1.90558472e+00,  1.11748219e+00,  3.45746811e-01,  2.34080812e+00,\n        4.79303568e+00,  1.56857634e+00,  4.32747428e-01,  1.97824730e+00,\n        8.82226564e-02,  3.99006382e-01,  7.88259880e-01,  5.05051677e-01,\n        2.38818095e+01,  1.23038597e+00,  1.63348587e+01,  2.18181387e+00,\n        1.79770583e+00,  1.02379737e+00,  1.62878356e+00,  3.14424294e-01,\n        1.34353170e+00,  5.43688219e-01,  1.06838237e+00,  1.28268552e-01,\n        1.67425263e-01,  1.60551841e+01,  3.81162004e+01,  3.63445802e-01,\n        5.34404895e-01,  7.67399493e+00,  2.71618003e+00,  9.15702245e-01,\n        1.57380974e+00,  4.94011293e-02,  2.40278879e-01,  1.20631240e+00,\n        2.01070179e+00,  1.18935648e+00,  1.08897309e-03,  1.33169550e+00,\n        2.41324187e-02,  6.04332006e+02,  1.15944625e+00,  2.50548690e+00,\n        1.67435863e+00,  1.04324858e+00,  4.75476599e-01,  1.05498049e-01,\n        3.69877504e-01,  1.75375495e+00,  3.88084173e-01,  1.30988177e+00,\n        4.68290468e-01,  5.01304808e-01,  6.90578507e-01,  7.43700328e-01,\n        2.98227330e-01,  3.05529396e-01,  1.69762544e+00,  9.26007041e-01,\n        4.62982355e-01,  1.22279280e+00,  7.78120141e-01,  1.35103944e+00,\n        1.82922748e+00,  3.07164182e+00,  8.75265248e-01,  2.34220382e+00,\n        2.78134960e+00,  6.73767214e-01,  6.10173686e-01,  1.54201032e+00,\n        9.08412757e-02,  8.76222588e-01,  3.42595909e-01,  1.01206439e+00,\n        9.97095971e-01,  4.82800423e-01,  3.06650895e-01,  1.59799759e-01,\n        3.38864676e+00,  5.09989685e-01,  3.56983960e-01,  7.22433397e+00,\n        8.28148500e-01,  1.42948170e+00,  2.72318066e-01,  1.58293569e-01,\n        1.05393877e-01,  1.05274963e+00,  8.63701785e-01,  7.70039546e-01,\n        1.42092394e+01,  1.20198800e+00,  1.05139709e+00,  1.05989330e+00,\n        4.10552467e-01,  7.42803260e-01,  6.72826761e+00,  8.42880974e+00,\n        3.56192071e-02,  9.12319235e-01,  6.60864497e-01,  2.28311864e-01,\n        1.66458481e+00,  4.38019464e-01,  9.68367356e-01,  7.14476414e-01,\n        4.74530955e-02,  2.44081093e+00,  4.38831933e+00,  1.53186305e+00,\n        9.14207449e-01,  7.67099247e-01,  2.02732187e+00,  4.09044909e-01,\n        1.59635656e+00,  1.84230739e-01,  5.79956063e-01,  3.80383055e-01,\n        5.17819054e-01,  1.23614258e+00,  7.37476293e-01,  3.82657787e-01,\n        9.04867032e-01,  4.41677484e+01,  2.02729679e+00,  8.38090941e-01,\n        1.09539706e+00,  1.25199427e+00,  6.56418445e+00,  1.21135084e+00])"
     },
     "execution_count": 30,
     "metadata": {},
     "output_type": "execute_result"
    }
   ],
   "source": [
    "linalg.spsolve(A, b)"
   ]
  },
  {
   "cell_type": "markdown",
   "metadata": {},
   "source": [
    "# NumPy \n",
    "\n",
    "NumPy (or Numpy) is a Linear Algebra Library for Python, the reason it is so important for Data Science with Python is that almost all of the libraries in the PyData Ecosystem rely on NumPy as one of their main building blocks.\n",
    "\n",
    "Numpy is also incredibly fast, as it has bindings to C libraries. For more info on why you would want to use Arrays instead of lists, check out this great [StackOverflow post](http://stackoverflow.com/questions/993984/why-numpy-instead-of-python-lists).\n",
    "\n",
    "We will only learn the basics of NumPy, to get started we need to install it!"
   ]
  },
  {
   "cell_type": "markdown",
   "metadata": {},
   "source": [
    "## Using NumPy\n",
    "\n",
    "You can import NumPy as a library:"
   ]
  },
  {
   "cell_type": "code",
   "execution_count": 31,
   "metadata": {},
   "outputs": [],
   "source": [
    "import numpy as np"
   ]
  },
  {
   "cell_type": "markdown",
   "metadata": {},
   "source": [
    "Numpy has many built-in functions and capabilities. We won't cover them all but instead we will focus on some of the most important aspects of Numpy: vectors,arrays,matrices, and number generation. Let's start by discussing arrays.\n",
    "\n",
    "# Numpy Arrays\n",
    "\n",
    "NumPy arrays are the main way we will use Numpy throughout the course. Numpy arrays essentially come in two flavors: vectors and matrices. Vectors are strictly 1-d arrays and matrices are 2-d (but you should note a matrix can still have only one row or one column).\n",
    "\n",
    "Let's begin our introduction by exploring how to create NumPy arrays.\n",
    "\n",
    "## Creating NumPy Arrays\n",
    "\n",
    "### From a Python List\n",
    "\n",
    "We can create an array by directly converting a list or list of lists:"
   ]
  },
  {
   "cell_type": "code",
   "execution_count": 32,
   "metadata": {},
   "outputs": [
    {
     "data": {
      "text/plain": "[1, 2, 3]"
     },
     "execution_count": 32,
     "metadata": {},
     "output_type": "execute_result"
    }
   ],
   "source": [
    "my_list = [1,2,3]\n",
    "my_list"
   ]
  },
  {
   "cell_type": "code",
   "execution_count": 33,
   "metadata": {},
   "outputs": [
    {
     "data": {
      "text/plain": "array([1, 2, 3])"
     },
     "execution_count": 33,
     "metadata": {},
     "output_type": "execute_result"
    }
   ],
   "source": [
    "np.array(my_list)"
   ]
  },
  {
   "cell_type": "code",
   "execution_count": 34,
   "metadata": {},
   "outputs": [
    {
     "data": {
      "text/plain": "[[1, 2, 3], [4, 5, 6], [7, 8, 9]]"
     },
     "execution_count": 34,
     "metadata": {},
     "output_type": "execute_result"
    }
   ],
   "source": [
    "my_matrix = [[1,2,3],[4,5,6],[7,8,9]]\n",
    "my_matrix"
   ]
  },
  {
   "cell_type": "code",
   "execution_count": 35,
   "metadata": {},
   "outputs": [
    {
     "data": {
      "text/plain": "array([[1, 2, 3],\n       [4, 5, 6],\n       [7, 8, 9]])"
     },
     "execution_count": 35,
     "metadata": {},
     "output_type": "execute_result"
    }
   ],
   "source": [
    "np.array(my_matrix)"
   ]
  },
  {
   "cell_type": "markdown",
   "metadata": {},
   "source": [
    "## Built-in Methods\n",
    "\n",
    "There are lots of built-in ways to generate Arrays"
   ]
  },
  {
   "cell_type": "markdown",
   "metadata": {},
   "source": [
    "### arange\n",
    "\n",
    "Return evenly spaced values within a given interval."
   ]
  },
  {
   "cell_type": "code",
   "execution_count": 36,
   "metadata": {},
   "outputs": [
    {
     "data": {
      "text/plain": "array([0, 1, 2, 3, 4, 5, 6, 7, 8, 9])"
     },
     "execution_count": 36,
     "metadata": {},
     "output_type": "execute_result"
    }
   ],
   "source": [
    "np.arange(0,10)"
   ]
  },
  {
   "cell_type": "code",
   "execution_count": 37,
   "metadata": {},
   "outputs": [
    {
     "data": {
      "text/plain": "array([ 0,  2,  4,  6,  8, 10])"
     },
     "execution_count": 37,
     "metadata": {},
     "output_type": "execute_result"
    }
   ],
   "source": [
    "np.arange(0,11,2)"
   ]
  },
  {
   "cell_type": "markdown",
   "metadata": {},
   "source": [
    "### zeros and ones\n",
    "\n",
    "Generate arrays of zeros or ones"
   ]
  },
  {
   "cell_type": "code",
   "execution_count": 38,
   "metadata": {},
   "outputs": [
    {
     "data": {
      "text/plain": "array([0., 0., 0.])"
     },
     "execution_count": 38,
     "metadata": {},
     "output_type": "execute_result"
    }
   ],
   "source": [
    "np.zeros(3)"
   ]
  },
  {
   "cell_type": "code",
   "execution_count": 39,
   "metadata": {},
   "outputs": [
    {
     "data": {
      "text/plain": "array([[0., 0., 0., 0., 0.],\n       [0., 0., 0., 0., 0.],\n       [0., 0., 0., 0., 0.],\n       [0., 0., 0., 0., 0.],\n       [0., 0., 0., 0., 0.]])"
     },
     "execution_count": 39,
     "metadata": {},
     "output_type": "execute_result"
    }
   ],
   "source": [
    "np.zeros((5,5))"
   ]
  },
  {
   "cell_type": "code",
   "execution_count": 40,
   "metadata": {},
   "outputs": [
    {
     "data": {
      "text/plain": "array([1., 1., 1.])"
     },
     "execution_count": 40,
     "metadata": {},
     "output_type": "execute_result"
    }
   ],
   "source": [
    "np.ones(3)"
   ]
  },
  {
   "cell_type": "code",
   "execution_count": 41,
   "metadata": {},
   "outputs": [
    {
     "data": {
      "text/plain": "array([[1., 1., 1.],\n       [1., 1., 1.],\n       [1., 1., 1.]])"
     },
     "execution_count": 41,
     "metadata": {},
     "output_type": "execute_result"
    }
   ],
   "source": [
    "np.ones((3,3))"
   ]
  },
  {
   "cell_type": "markdown",
   "metadata": {},
   "source": [
    "### linspace\n",
    "Return evenly spaced numbers over a specified interval."
   ]
  },
  {
   "cell_type": "code",
   "execution_count": 42,
   "metadata": {},
   "outputs": [
    {
     "data": {
      "text/plain": "array([ 0.,  5., 10.])"
     },
     "execution_count": 42,
     "metadata": {},
     "output_type": "execute_result"
    }
   ],
   "source": [
    "np.linspace(0,10,3)"
   ]
  },
  {
   "cell_type": "code",
   "execution_count": 43,
   "metadata": {},
   "outputs": [
    {
     "data": {
      "text/plain": "array([ 0.        ,  0.20408163,  0.40816327,  0.6122449 ,  0.81632653,\n        1.02040816,  1.2244898 ,  1.42857143,  1.63265306,  1.83673469,\n        2.04081633,  2.24489796,  2.44897959,  2.65306122,  2.85714286,\n        3.06122449,  3.26530612,  3.46938776,  3.67346939,  3.87755102,\n        4.08163265,  4.28571429,  4.48979592,  4.69387755,  4.89795918,\n        5.10204082,  5.30612245,  5.51020408,  5.71428571,  5.91836735,\n        6.12244898,  6.32653061,  6.53061224,  6.73469388,  6.93877551,\n        7.14285714,  7.34693878,  7.55102041,  7.75510204,  7.95918367,\n        8.16326531,  8.36734694,  8.57142857,  8.7755102 ,  8.97959184,\n        9.18367347,  9.3877551 ,  9.59183673,  9.79591837, 10.        ])"
     },
     "execution_count": 43,
     "metadata": {},
     "output_type": "execute_result"
    }
   ],
   "source": [
    "np.linspace(0,10,50)"
   ]
  },
  {
   "cell_type": "markdown",
   "metadata": {},
   "source": [
    "## eye\n",
    "\n",
    "Creates an identity matrix"
   ]
  },
  {
   "cell_type": "code",
   "execution_count": 44,
   "metadata": {},
   "outputs": [
    {
     "data": {
      "text/plain": "array([[1., 0., 0., 0.],\n       [0., 1., 0., 0.],\n       [0., 0., 1., 0.],\n       [0., 0., 0., 1.]])"
     },
     "execution_count": 44,
     "metadata": {},
     "output_type": "execute_result"
    }
   ],
   "source": [
    "np.eye(4)"
   ]
  },
  {
   "cell_type": "markdown",
   "metadata": {},
   "source": [
    "## Random \n",
    "\n",
    "Numpy also has lots of ways to create random number arrays:\n",
    "\n",
    "### rand\n",
    "Create an array of the given shape and populate it with\n",
    "random samples from a uniform distribution\n",
    "over ``[0, 1)``."
   ]
  },
  {
   "cell_type": "code",
   "execution_count": 45,
   "metadata": {},
   "outputs": [
    {
     "data": {
      "text/plain": "array([0.32494952, 0.44075362])"
     },
     "execution_count": 45,
     "metadata": {},
     "output_type": "execute_result"
    }
   ],
   "source": [
    "np.random.rand(2)"
   ]
  },
  {
   "cell_type": "code",
   "execution_count": 46,
   "metadata": {},
   "outputs": [
    {
     "data": {
      "text/plain": "array([[0.48314815, 0.53176934, 0.58782761, 0.9621088 , 0.93888978],\n       [0.61388988, 0.13345193, 0.1029011 , 0.7833881 , 0.55269976],\n       [0.72998451, 0.96501984, 0.48951829, 0.34797026, 0.47159807],\n       [0.28272607, 0.57231574, 0.23110241, 0.70704119, 0.67699542],\n       [0.15076076, 0.53016576, 0.382767  , 0.29612378, 0.56185599]])"
     },
     "execution_count": 46,
     "metadata": {},
     "output_type": "execute_result"
    }
   ],
   "source": [
    "np.random.rand(5,5)"
   ]
  },
  {
   "cell_type": "markdown",
   "metadata": {},
   "source": [
    "### randn\n",
    "\n",
    "Return a sample (or samples) from the \"standard normal\" distribution. Unlike rand which is uniform:"
   ]
  },
  {
   "cell_type": "code",
   "execution_count": 47,
   "metadata": {},
   "outputs": [
    {
     "data": {
      "text/plain": "array([-1.2096381 ,  1.06412294])"
     },
     "execution_count": 47,
     "metadata": {},
     "output_type": "execute_result"
    }
   ],
   "source": [
    "np.random.randn(2)"
   ]
  },
  {
   "cell_type": "code",
   "execution_count": 48,
   "metadata": {},
   "outputs": [
    {
     "data": {
      "text/plain": "array([[ 0.20905325, -0.20649469, -1.15347815, -0.26315017,  1.83882283],\n       [-0.21685855, -0.43189625, -0.12397512,  0.21273622, -0.74334919],\n       [-0.1378208 , -0.15751723, -0.03108824,  0.73889699, -0.23652403],\n       [-1.26337007,  1.0942907 ,  0.4280431 , -1.14348348,  1.1588491 ],\n       [ 2.17885543,  1.05314302, -1.42127673, -0.51502906,  0.47046484]])"
     },
     "execution_count": 48,
     "metadata": {},
     "output_type": "execute_result"
    }
   ],
   "source": [
    "np.random.randn(5,5)"
   ]
  },
  {
   "cell_type": "markdown",
   "metadata": {},
   "source": [
    "### randint\n",
    "Return random integers from `low` (inclusive) to `high` (exclusive)."
   ]
  },
  {
   "cell_type": "code",
   "execution_count": 49,
   "metadata": {},
   "outputs": [
    {
     "data": {
      "text/plain": "48"
     },
     "execution_count": 49,
     "metadata": {},
     "output_type": "execute_result"
    }
   ],
   "source": [
    "np.random.randint(1,100)"
   ]
  },
  {
   "cell_type": "code",
   "execution_count": 50,
   "metadata": {},
   "outputs": [
    {
     "data": {
      "text/plain": "array([38, 41, 59, 79, 71, 48, 48, 43, 31, 88])"
     },
     "execution_count": 50,
     "metadata": {},
     "output_type": "execute_result"
    }
   ],
   "source": [
    "np.random.randint(1,100,10)"
   ]
  },
  {
   "cell_type": "markdown",
   "metadata": {},
   "source": [
    "## Array Attributes and Methods\n",
    "\n",
    "Let's discuss some useful attributes and methods or an array:"
   ]
  },
  {
   "cell_type": "code",
   "execution_count": 51,
   "metadata": {},
   "outputs": [],
   "source": [
    "arr = np.arange(25)\n",
    "ranarr = np.random.randint(0,50,10)"
   ]
  },
  {
   "cell_type": "code",
   "execution_count": 52,
   "metadata": {},
   "outputs": [
    {
     "data": {
      "text/plain": "array([ 0,  1,  2,  3,  4,  5,  6,  7,  8,  9, 10, 11, 12, 13, 14, 15, 16,\n       17, 18, 19, 20, 21, 22, 23, 24])"
     },
     "execution_count": 52,
     "metadata": {},
     "output_type": "execute_result"
    }
   ],
   "source": [
    "arr"
   ]
  },
  {
   "cell_type": "code",
   "execution_count": 54,
   "metadata": {},
   "outputs": [
    {
     "data": {
      "text/plain": "array([ 1, 20, 11, 20, 14, 41, 28, 13, 33, 32])"
     },
     "execution_count": 54,
     "metadata": {},
     "output_type": "execute_result"
    }
   ],
   "source": [
    "ranarr"
   ]
  },
  {
   "cell_type": "markdown",
   "metadata": {},
   "source": [
    "## Reshape\n",
    "Returns an array containing the same data with a new shape."
   ]
  },
  {
   "cell_type": "code",
   "execution_count": 55,
   "metadata": {},
   "outputs": [
    {
     "data": {
      "text/plain": "array([[ 0,  1,  2,  3,  4],\n       [ 5,  6,  7,  8,  9],\n       [10, 11, 12, 13, 14],\n       [15, 16, 17, 18, 19],\n       [20, 21, 22, 23, 24]])"
     },
     "execution_count": 55,
     "metadata": {},
     "output_type": "execute_result"
    }
   ],
   "source": [
    "arr.reshape(5,5)"
   ]
  },
  {
   "cell_type": "markdown",
   "metadata": {},
   "source": [
    "### max,min,argmax,argmin\n",
    "\n",
    "These are useful methods for finding max or min values. Or to find their index locations using argmin or argmax"
   ]
  },
  {
   "cell_type": "code",
   "execution_count": 56,
   "metadata": {},
   "outputs": [
    {
     "data": {
      "text/plain": "array([ 1, 20, 11, 20, 14, 41, 28, 13, 33, 32])"
     },
     "execution_count": 56,
     "metadata": {},
     "output_type": "execute_result"
    }
   ],
   "source": [
    "ranarr"
   ]
  },
  {
   "cell_type": "code",
   "execution_count": 57,
   "metadata": {},
   "outputs": [
    {
     "data": {
      "text/plain": "41"
     },
     "execution_count": 57,
     "metadata": {},
     "output_type": "execute_result"
    }
   ],
   "source": [
    "ranarr.max()"
   ]
  },
  {
   "cell_type": "code",
   "execution_count": 58,
   "metadata": {},
   "outputs": [
    {
     "data": {
      "text/plain": "5"
     },
     "execution_count": 58,
     "metadata": {},
     "output_type": "execute_result"
    }
   ],
   "source": [
    "ranarr.argmax()"
   ]
  },
  {
   "cell_type": "code",
   "execution_count": 59,
   "metadata": {},
   "outputs": [
    {
     "data": {
      "text/plain": "1"
     },
     "execution_count": 59,
     "metadata": {},
     "output_type": "execute_result"
    }
   ],
   "source": [
    "ranarr.min()"
   ]
  },
  {
   "cell_type": "code",
   "execution_count": 60,
   "metadata": {},
   "outputs": [
    {
     "data": {
      "text/plain": "0"
     },
     "execution_count": 60,
     "metadata": {},
     "output_type": "execute_result"
    }
   ],
   "source": [
    "ranarr.argmin()"
   ]
  },
  {
   "cell_type": "markdown",
   "metadata": {},
   "source": [
    "## Shape\n",
    "\n",
    "Shape is an attribute that arrays have (not a method):"
   ]
  },
  {
   "cell_type": "code",
   "execution_count": 61,
   "metadata": {},
   "outputs": [
    {
     "data": {
      "text/plain": "(25,)"
     },
     "execution_count": 61,
     "metadata": {},
     "output_type": "execute_result"
    }
   ],
   "source": [
    "# Vector\n",
    "arr.shape"
   ]
  },
  {
   "cell_type": "code",
   "execution_count": 62,
   "metadata": {},
   "outputs": [
    {
     "data": {
      "text/plain": "array([[ 0,  1,  2,  3,  4,  5,  6,  7,  8,  9, 10, 11, 12, 13, 14, 15,\n        16, 17, 18, 19, 20, 21, 22, 23, 24]])"
     },
     "execution_count": 62,
     "metadata": {},
     "output_type": "execute_result"
    }
   ],
   "source": [
    "# Notice the two sets of brackets\n",
    "arr.reshape(1,25)"
   ]
  },
  {
   "cell_type": "code",
   "execution_count": 63,
   "metadata": {},
   "outputs": [
    {
     "data": {
      "text/plain": "(1, 25)"
     },
     "execution_count": 63,
     "metadata": {},
     "output_type": "execute_result"
    }
   ],
   "source": [
    "arr.reshape(1,25).shape"
   ]
  },
  {
   "cell_type": "code",
   "execution_count": 64,
   "metadata": {},
   "outputs": [
    {
     "data": {
      "text/plain": "array([[ 0],\n       [ 1],\n       [ 2],\n       [ 3],\n       [ 4],\n       [ 5],\n       [ 6],\n       [ 7],\n       [ 8],\n       [ 9],\n       [10],\n       [11],\n       [12],\n       [13],\n       [14],\n       [15],\n       [16],\n       [17],\n       [18],\n       [19],\n       [20],\n       [21],\n       [22],\n       [23],\n       [24]])"
     },
     "execution_count": 64,
     "metadata": {},
     "output_type": "execute_result"
    }
   ],
   "source": [
    "arr.reshape(25,1)"
   ]
  },
  {
   "cell_type": "code",
   "execution_count": 65,
   "metadata": {},
   "outputs": [
    {
     "data": {
      "text/plain": "(25, 1)"
     },
     "execution_count": 65,
     "metadata": {},
     "output_type": "execute_result"
    }
   ],
   "source": [
    "arr.reshape(25,1).shape"
   ]
  },
  {
   "cell_type": "markdown",
   "metadata": {},
   "source": [
    "### dtype\n",
    "\n",
    "You can also grab the data type of the object in the array:"
   ]
  },
  {
   "cell_type": "code",
   "execution_count": 66,
   "metadata": {},
   "outputs": [
    {
     "data": {
      "text/plain": "dtype('int32')"
     },
     "execution_count": 66,
     "metadata": {},
     "output_type": "execute_result"
    }
   ],
   "source": [
    "arr.dtype"
   ]
  },
  {
   "cell_type": "markdown",
   "metadata": {},
   "source": [
    "# NumPy Indexing and Selection\n",
    "\n",
    "In this lecture we will discuss how to select elements or groups of elements from an array."
   ]
  },
  {
   "cell_type": "code",
   "execution_count": 67,
   "metadata": {},
   "outputs": [],
   "source": [
    "import numpy as np"
   ]
  },
  {
   "cell_type": "code",
   "execution_count": 68,
   "metadata": {},
   "outputs": [],
   "source": [
    "#Creating sample array\n",
    "arr = np.arange(0,11)"
   ]
  },
  {
   "cell_type": "code",
   "execution_count": 69,
   "metadata": {},
   "outputs": [
    {
     "data": {
      "text/plain": "array([ 0,  1,  2,  3,  4,  5,  6,  7,  8,  9, 10])"
     },
     "execution_count": 69,
     "metadata": {},
     "output_type": "execute_result"
    }
   ],
   "source": [
    "#Show\n",
    "arr"
   ]
  },
  {
   "cell_type": "markdown",
   "metadata": {},
   "source": [
    "## Bracket Indexing and Selection\n",
    "The simplest way to pick one or some elements of an array looks very similar to python lists:"
   ]
  },
  {
   "cell_type": "code",
   "execution_count": 70,
   "metadata": {},
   "outputs": [
    {
     "data": {
      "text/plain": "8"
     },
     "execution_count": 70,
     "metadata": {},
     "output_type": "execute_result"
    }
   ],
   "source": [
    "#Get a value at an index\n",
    "arr[8]"
   ]
  },
  {
   "cell_type": "code",
   "execution_count": 71,
   "metadata": {},
   "outputs": [
    {
     "data": {
      "text/plain": "array([1, 2, 3, 4])"
     },
     "execution_count": 71,
     "metadata": {},
     "output_type": "execute_result"
    }
   ],
   "source": [
    "#Get values in a range\n",
    "arr[1:5]"
   ]
  },
  {
   "cell_type": "code",
   "execution_count": 72,
   "metadata": {},
   "outputs": [
    {
     "data": {
      "text/plain": "array([0, 1, 2, 3, 4])"
     },
     "execution_count": 72,
     "metadata": {},
     "output_type": "execute_result"
    }
   ],
   "source": [
    "#Get values in a range\n",
    "arr[0:5]"
   ]
  },
  {
   "cell_type": "markdown",
   "metadata": {},
   "source": [
    "## Broadcasting\n",
    "\n",
    "Numpy arrays differ from a normal Python list because of their ability to broadcast:"
   ]
  },
  {
   "cell_type": "code",
   "execution_count": 73,
   "metadata": {},
   "outputs": [
    {
     "data": {
      "text/plain": "array([100, 100, 100, 100, 100,   5,   6,   7,   8,   9,  10])"
     },
     "execution_count": 73,
     "metadata": {},
     "output_type": "execute_result"
    }
   ],
   "source": [
    "#Setting a value with index range (Broadcasting)\n",
    "arr[0:5]=100\n",
    "\n",
    "#Show\n",
    "arr"
   ]
  },
  {
   "cell_type": "code",
   "execution_count": 74,
   "metadata": {},
   "outputs": [
    {
     "data": {
      "text/plain": "array([ 0,  1,  2,  3,  4,  5,  6,  7,  8,  9, 10])"
     },
     "execution_count": 74,
     "metadata": {},
     "output_type": "execute_result"
    }
   ],
   "source": [
    "# Reset array, we'll see why I had to reset in  a moment\n",
    "arr = np.arange(0,11)\n",
    "\n",
    "#Show\n",
    "arr"
   ]
  },
  {
   "cell_type": "code",
   "execution_count": 75,
   "metadata": {},
   "outputs": [
    {
     "data": {
      "text/plain": "array([0, 1, 2, 3, 4, 5])"
     },
     "execution_count": 75,
     "metadata": {},
     "output_type": "execute_result"
    }
   ],
   "source": [
    "#Important notes on Slices\n",
    "slice_of_arr = arr[0:6]\n",
    "\n",
    "#Show slice\n",
    "slice_of_arr"
   ]
  },
  {
   "cell_type": "code",
   "execution_count": 76,
   "metadata": {},
   "outputs": [
    {
     "data": {
      "text/plain": "array([99, 99, 99, 99, 99, 99])"
     },
     "execution_count": 76,
     "metadata": {},
     "output_type": "execute_result"
    }
   ],
   "source": [
    "#Change Slice\n",
    "slice_of_arr[:]=99\n",
    "\n",
    "#Show Slice again\n",
    "slice_of_arr"
   ]
  },
  {
   "cell_type": "markdown",
   "metadata": {},
   "source": [
    "Now note the changes also occur in our original array!"
   ]
  },
  {
   "cell_type": "code",
   "execution_count": 77,
   "metadata": {},
   "outputs": [
    {
     "data": {
      "text/plain": "array([99, 99, 99, 99, 99, 99,  6,  7,  8,  9, 10])"
     },
     "execution_count": 77,
     "metadata": {},
     "output_type": "execute_result"
    }
   ],
   "source": [
    "arr"
   ]
  },
  {
   "cell_type": "markdown",
   "metadata": {},
   "source": [
    "Data is not copied, it's a view of the original array! This avoids memory problems!"
   ]
  },
  {
   "cell_type": "code",
   "execution_count": 78,
   "metadata": {},
   "outputs": [
    {
     "data": {
      "text/plain": "array([99, 99, 99, 99, 99, 99,  6,  7,  8,  9, 10])"
     },
     "execution_count": 78,
     "metadata": {},
     "output_type": "execute_result"
    }
   ],
   "source": [
    "#To get a copy, need to be explicit\n",
    "arr_copy = arr.copy()\n",
    "\n",
    "arr_copy"
   ]
  },
  {
   "cell_type": "markdown",
   "metadata": {},
   "source": [
    "## Indexing a 2D array (matrices)\n",
    "\n",
    "The general format is **arr_2d[row][col]** or **arr_2d[row,col]**. I recommend usually using the comma notation for clarity."
   ]
  },
  {
   "cell_type": "code",
   "execution_count": 80,
   "metadata": {},
   "outputs": [
    {
     "data": {
      "text/plain": "array([[ 5, 10, 15],\n       [20, 25, 30],\n       [35, 40, 45]])"
     },
     "execution_count": 80,
     "metadata": {},
     "output_type": "execute_result"
    }
   ],
   "source": [
    "arr_2d = np.array(([5,10,15],[20,25,30],[35,40,45]))\n",
    "\n",
    "#Show\n",
    "arr_2d"
   ]
  },
  {
   "cell_type": "code",
   "execution_count": 81,
   "metadata": {},
   "outputs": [
    {
     "data": {
      "text/plain": "array([20, 25, 30])"
     },
     "execution_count": 81,
     "metadata": {},
     "output_type": "execute_result"
    }
   ],
   "source": [
    "#Indexing row\n",
    "arr_2d[1]\n"
   ]
  },
  {
   "cell_type": "code",
   "execution_count": 82,
   "metadata": {},
   "outputs": [
    {
     "data": {
      "text/plain": "20"
     },
     "execution_count": 82,
     "metadata": {},
     "output_type": "execute_result"
    }
   ],
   "source": [
    "# Format is arr_2d[row][col] or arr_2d[row,col]\n",
    "\n",
    "# Getting individual element value\n",
    "arr_2d[1][0]"
   ]
  },
  {
   "cell_type": "code",
   "execution_count": 83,
   "metadata": {},
   "outputs": [
    {
     "data": {
      "text/plain": "20"
     },
     "execution_count": 83,
     "metadata": {},
     "output_type": "execute_result"
    }
   ],
   "source": [
    "# Getting individual element value\n",
    "arr_2d[1,0]"
   ]
  },
  {
   "cell_type": "code",
   "execution_count": 84,
   "metadata": {},
   "outputs": [
    {
     "data": {
      "text/plain": "array([[10, 15],\n       [25, 30]])"
     },
     "execution_count": 84,
     "metadata": {},
     "output_type": "execute_result"
    }
   ],
   "source": [
    "# 2D array slicing\n",
    "\n",
    "#Shape (2,2) from top right corner\n",
    "arr_2d[:2,1:]"
   ]
  },
  {
   "cell_type": "code",
   "execution_count": 85,
   "metadata": {},
   "outputs": [
    {
     "data": {
      "text/plain": "array([35, 40, 45])"
     },
     "execution_count": 85,
     "metadata": {},
     "output_type": "execute_result"
    }
   ],
   "source": [
    "#Shape bottom row\n",
    "arr_2d[2]"
   ]
  },
  {
   "cell_type": "code",
   "execution_count": 86,
   "metadata": {},
   "outputs": [
    {
     "data": {
      "text/plain": "array([35, 40, 45])"
     },
     "execution_count": 86,
     "metadata": {},
     "output_type": "execute_result"
    }
   ],
   "source": [
    "#Shape bottom row\n",
    "arr_2d[2,:]"
   ]
  },
  {
   "cell_type": "markdown",
   "metadata": {},
   "source": [
    "### Fancy Indexing\n",
    "\n",
    "Fancy indexing allows you to select entire rows or columns out of order,to show this, let's quickly build out a numpy array:"
   ]
  },
  {
   "cell_type": "code",
   "execution_count": 103,
   "metadata": {},
   "outputs": [
    {
     "data": {
      "text/plain": "array([[0., 0., 0., 0., 0., 0., 0., 0., 0., 0.],\n       [0., 0., 0., 0., 0., 0., 0., 0., 0., 0.],\n       [0., 0., 0., 0., 0., 0., 0., 0., 0., 0.],\n       [0., 0., 0., 0., 0., 0., 0., 0., 0., 0.],\n       [0., 0., 0., 0., 0., 0., 0., 0., 0., 0.],\n       [0., 0., 0., 0., 0., 0., 0., 0., 0., 0.],\n       [0., 0., 0., 0., 0., 0., 0., 0., 0., 0.],\n       [0., 0., 0., 0., 0., 0., 0., 0., 0., 0.],\n       [0., 0., 0., 0., 0., 0., 0., 0., 0., 0.],\n       [0., 0., 0., 0., 0., 0., 0., 0., 0., 0.]])"
     },
     "execution_count": 103,
     "metadata": {},
     "output_type": "execute_result"
    }
   ],
   "source": [
    "#Set up matrix\n",
    "arr2d = np.zeros((10,10))\n",
    "arr2d"
   ]
  },
  {
   "cell_type": "code",
   "execution_count": 105,
   "metadata": {},
   "outputs": [
    {
     "name": "stdout",
     "output_type": "stream",
     "text": "(10, 10)\n"
    }
   ],
   "source": [
    "#Length of array\n",
    "print(arr2d.shape)\n",
    "arr_length = arr2d.shape[1]"
   ]
  },
  {
   "cell_type": "code",
   "execution_count": 108,
   "metadata": {},
   "outputs": [
    {
     "data": {
      "text/plain": "array([[0., 0., 0., 0., 0., 0., 0., 0., 0., 0.],\n       [1., 1., 1., 1., 1., 1., 1., 1., 1., 1.],\n       [2., 2., 2., 2., 2., 2., 2., 2., 2., 2.],\n       [3., 3., 3., 3., 3., 3., 3., 3., 3., 3.],\n       [4., 4., 4., 4., 4., 4., 4., 4., 4., 4.],\n       [5., 5., 5., 5., 5., 5., 5., 5., 5., 5.],\n       [6., 6., 6., 6., 6., 6., 6., 6., 6., 6.],\n       [7., 7., 7., 7., 7., 7., 7., 7., 7., 7.],\n       [8., 8., 8., 8., 8., 8., 8., 8., 8., 8.],\n       [9., 9., 9., 9., 9., 9., 9., 9., 9., 9.]])"
     },
     "execution_count": 108,
     "metadata": {},
     "output_type": "execute_result"
    }
   ],
   "source": [
    "#Set up array\n",
    "\n",
    "for i in range(arr_length):\n",
    "    arr2d[i] = i\n",
    "    \n",
    "arr2d"
   ]
  },
  {
   "cell_type": "markdown",
   "metadata": {},
   "source": [
    "Fancy indexing allows the following"
   ]
  },
  {
   "cell_type": "code",
   "execution_count": 109,
   "metadata": {},
   "outputs": [
    {
     "data": {
      "text/plain": "array([[2., 2., 2., 2., 2., 2., 2., 2., 2., 2.],\n       [4., 4., 4., 4., 4., 4., 4., 4., 4., 4.],\n       [6., 6., 6., 6., 6., 6., 6., 6., 6., 6.],\n       [8., 8., 8., 8., 8., 8., 8., 8., 8., 8.]])"
     },
     "execution_count": 109,
     "metadata": {},
     "output_type": "execute_result"
    }
   ],
   "source": [
    "arr2d[[2,4,6,8]]"
   ]
  },
  {
   "cell_type": "code",
   "execution_count": 110,
   "metadata": {},
   "outputs": [
    {
     "data": {
      "text/plain": "array([[6., 6., 6., 6., 6., 6., 6., 6., 6., 6.],\n       [4., 4., 4., 4., 4., 4., 4., 4., 4., 4.],\n       [2., 2., 2., 2., 2., 2., 2., 2., 2., 2.],\n       [7., 7., 7., 7., 7., 7., 7., 7., 7., 7.]])"
     },
     "execution_count": 110,
     "metadata": {},
     "output_type": "execute_result"
    }
   ],
   "source": [
    "#Allows in any order\n",
    "arr2d[[6,4,2,7]]"
   ]
  },
  {
   "cell_type": "markdown",
   "metadata": {},
   "source": [
    "## More Indexing Help\n",
    "Indexing a 2d matrix can be a bit confusing at first, especially when you start to add in step size. Try google image searching NumPy indexing to fins useful images, like this one:\n",
    "\n",
    "<img src= 'http://memory.osu.edu/classes/python/_images/numpy_indexing.png' width=500/>"
   ]
  },
  {
   "cell_type": "markdown",
   "metadata": {},
   "source": [
    "## Selection\n",
    "\n",
    "Let's briefly go over how to use brackets for selection based off of comparison operators."
   ]
  },
  {
   "cell_type": "code",
   "execution_count": 111,
   "metadata": {},
   "outputs": [
    {
     "data": {
      "text/plain": "array([ 1,  2,  3,  4,  5,  6,  7,  8,  9, 10])"
     },
     "execution_count": 111,
     "metadata": {},
     "output_type": "execute_result"
    }
   ],
   "source": [
    "arr = np.arange(1,11)\n",
    "arr"
   ]
  },
  {
   "cell_type": "code",
   "execution_count": 112,
   "metadata": {},
   "outputs": [
    {
     "data": {
      "text/plain": "array([False, False, False, False,  True,  True,  True,  True,  True,\n        True])"
     },
     "execution_count": 112,
     "metadata": {},
     "output_type": "execute_result"
    }
   ],
   "source": [
    "arr > 4"
   ]
  },
  {
   "cell_type": "code",
   "execution_count": 113,
   "metadata": {},
   "outputs": [],
   "source": [
    "bool_arr = arr>4"
   ]
  },
  {
   "cell_type": "code",
   "execution_count": 114,
   "metadata": {},
   "outputs": [
    {
     "data": {
      "text/plain": "array([False, False, False, False,  True,  True,  True,  True,  True,\n        True])"
     },
     "execution_count": 114,
     "metadata": {},
     "output_type": "execute_result"
    }
   ],
   "source": [
    "bool_arr"
   ]
  },
  {
   "cell_type": "code",
   "execution_count": 115,
   "metadata": {},
   "outputs": [
    {
     "data": {
      "text/plain": "array([ 5,  6,  7,  8,  9, 10])"
     },
     "execution_count": 115,
     "metadata": {},
     "output_type": "execute_result"
    }
   ],
   "source": [
    "arr[bool_arr]"
   ]
  },
  {
   "cell_type": "code",
   "execution_count": 116,
   "metadata": {},
   "outputs": [
    {
     "data": {
      "text/plain": "array([ 3,  4,  5,  6,  7,  8,  9, 10])"
     },
     "execution_count": 116,
     "metadata": {},
     "output_type": "execute_result"
    }
   ],
   "source": [
    "arr[arr>2]"
   ]
  },
  {
   "cell_type": "code",
   "execution_count": 117,
   "metadata": {},
   "outputs": [
    {
     "data": {
      "text/plain": "array([ 3,  4,  5,  6,  7,  8,  9, 10])"
     },
     "execution_count": 117,
     "metadata": {},
     "output_type": "execute_result"
    }
   ],
   "source": [
    "x = 2\n",
    "arr[arr>x]"
   ]
  },
  {
   "cell_type": "markdown",
   "metadata": {
    "collapsed": true
   },
   "source": [
    "# NumPy Operations"
   ]
  },
  {
   "cell_type": "markdown",
   "metadata": {},
   "source": [
    "## Arithmetic\n",
    "\n",
    "You can easily perform array with array arithmetic, or scalar with array arithmetic. Let's see some examples:"
   ]
  },
  {
   "cell_type": "code",
   "execution_count": 118,
   "metadata": {},
   "outputs": [],
   "source": [
    "import numpy as np\n",
    "arr = np.arange(0,10)"
   ]
  },
  {
   "cell_type": "code",
   "execution_count": 119,
   "metadata": {},
   "outputs": [
    {
     "data": {
      "text/plain": "array([ 0,  2,  4,  6,  8, 10, 12, 14, 16, 18])"
     },
     "execution_count": 119,
     "metadata": {},
     "output_type": "execute_result"
    }
   ],
   "source": [
    "arr + arr"
   ]
  },
  {
   "cell_type": "code",
   "execution_count": 120,
   "metadata": {},
   "outputs": [
    {
     "data": {
      "text/plain": "array([ 0,  1,  4,  9, 16, 25, 36, 49, 64, 81])"
     },
     "execution_count": 120,
     "metadata": {},
     "output_type": "execute_result"
    }
   ],
   "source": [
    "arr * arr"
   ]
  },
  {
   "cell_type": "code",
   "execution_count": 121,
   "metadata": {},
   "outputs": [
    {
     "data": {
      "text/plain": "array([0, 0, 0, 0, 0, 0, 0, 0, 0, 0])"
     },
     "execution_count": 121,
     "metadata": {},
     "output_type": "execute_result"
    }
   ],
   "source": [
    "arr - arr"
   ]
  },
  {
   "cell_type": "code",
   "execution_count": 122,
   "metadata": {},
   "outputs": [
    {
     "data": {
      "text/plain": "array([nan,  1.,  1.,  1.,  1.,  1.,  1.,  1.,  1.,  1.])"
     },
     "execution_count": 122,
     "metadata": {},
     "output_type": "execute_result"
    }
   ],
   "source": [
    "# Warning on division by zero, but not an error!\n",
    "# Just replaced with nan\n",
    "arr/arr"
   ]
  },
  {
   "cell_type": "code",
   "execution_count": 123,
   "metadata": {},
   "outputs": [
    {
     "data": {
      "text/plain": "array([       inf, 1.        , 0.5       , 0.33333333, 0.25      ,\n       0.2       , 0.16666667, 0.14285714, 0.125     , 0.11111111])"
     },
     "execution_count": 123,
     "metadata": {},
     "output_type": "execute_result"
    }
   ],
   "source": [
    "# Also warning, but not an error instead infinity\n",
    "1/arr"
   ]
  },
  {
   "cell_type": "code",
   "execution_count": 124,
   "metadata": {},
   "outputs": [
    {
     "data": {
      "text/plain": "array([  0,   1,   8,  27,  64, 125, 216, 343, 512, 729], dtype=int32)"
     },
     "execution_count": 124,
     "metadata": {},
     "output_type": "execute_result"
    }
   ],
   "source": [
    "arr**3"
   ]
  },
  {
   "cell_type": "markdown",
   "metadata": {},
   "source": [
    "## Universal Array Functions\n",
    "\n",
    "Numpy comes with many [universal array functions](http://docs.scipy.org/doc/numpy/reference/ufuncs.html), which are essentially just mathematical operations you can use to perform the operation across the array. Let's show some common ones:"
   ]
  },
  {
   "cell_type": "code",
   "execution_count": 125,
   "metadata": {},
   "outputs": [
    {
     "data": {
      "text/plain": "array([0.        , 1.        , 1.41421356, 1.73205081, 2.        ,\n       2.23606798, 2.44948974, 2.64575131, 2.82842712, 3.        ])"
     },
     "execution_count": 125,
     "metadata": {},
     "output_type": "execute_result"
    }
   ],
   "source": [
    "#Taking Square Roots\n",
    "np.sqrt(arr)"
   ]
  },
  {
   "cell_type": "code",
   "execution_count": 126,
   "metadata": {},
   "outputs": [
    {
     "data": {
      "text/plain": "array([1.00000000e+00, 2.71828183e+00, 7.38905610e+00, 2.00855369e+01,\n       5.45981500e+01, 1.48413159e+02, 4.03428793e+02, 1.09663316e+03,\n       2.98095799e+03, 8.10308393e+03])"
     },
     "execution_count": 126,
     "metadata": {},
     "output_type": "execute_result"
    }
   ],
   "source": [
    "#Calcualting exponential (e^)\n",
    "np.exp(arr)"
   ]
  },
  {
   "cell_type": "code",
   "execution_count": 127,
   "metadata": {},
   "outputs": [
    {
     "data": {
      "text/plain": "9"
     },
     "execution_count": 127,
     "metadata": {},
     "output_type": "execute_result"
    }
   ],
   "source": [
    "np.max(arr) #same as arr.max()"
   ]
  },
  {
   "cell_type": "code",
   "execution_count": 128,
   "metadata": {},
   "outputs": [
    {
     "data": {
      "text/plain": "array([ 0.        ,  0.84147098,  0.90929743,  0.14112001, -0.7568025 ,\n       -0.95892427, -0.2794155 ,  0.6569866 ,  0.98935825,  0.41211849])"
     },
     "execution_count": 128,
     "metadata": {},
     "output_type": "execute_result"
    }
   ],
   "source": [
    "np.sin(arr)"
   ]
  },
  {
   "cell_type": "code",
   "execution_count": 130,
   "metadata": {},
   "outputs": [
    {
     "data": {
      "text/plain": "array([      -inf, 0.        , 0.69314718, 1.09861229, 1.38629436,\n       1.60943791, 1.79175947, 1.94591015, 2.07944154, 2.19722458])"
     },
     "execution_count": 130,
     "metadata": {},
     "output_type": "execute_result"
    }
   ],
   "source": [
    "np.log(arr)"
   ]
  },
  {
   "cell_type": "markdown",
   "metadata": {},
   "source": [
    "# Great Job!\n",
    "\n",
    "That's all we need to know for now!"
   ]
  },
  {
   "cell_type": "markdown",
   "metadata": {},
   "source": [
    "There is a lot more that SciPy is capable of, such as Fourier Transforms, Bessel Functions, etc...\n",
    "\n",
    "You can reference the Documentation for more details!\n",
    "\n",
    "https://docs.scipy.org/doc/"
   ]
  }
 ],
 "metadata": {
  "kernelspec": {
   "display_name": "Python 3",
   "language": "python",
   "name": "python3"
  },
  "language_info": {
   "codemirror_mode": {
    "name": "ipython",
    "version": 3
   },
   "file_extension": ".py",
   "mimetype": "text/x-python",
   "name": "python",
   "nbconvert_exporter": "python",
   "pygments_lexer": "ipython3",
   "version": "3.7.4-final"
  }
 },
 "nbformat": 4,
 "nbformat_minor": 1
}